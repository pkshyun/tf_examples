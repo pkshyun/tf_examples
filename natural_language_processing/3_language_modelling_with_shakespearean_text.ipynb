{
  "nbformat": 4,
  "nbformat_minor": 0,
  "metadata": {
    "colab": {
      "name": "3_language_modelling_with_shakespearean_text.ipynb",
      "provenance": [],
      "collapsed_sections": [],
      "authorship_tag": "ABX9TyODCoVxrbV0oSh4wWH5E1eM"
    },
    "kernelspec": {
      "name": "python3",
      "display_name": "Python 3"
    },
    "language_info": {
      "name": "python"
    },
    "accelerator": "GPU"
  },
  "cells": [
    {
      "cell_type": "markdown",
      "metadata": {
        "id": "GRWLQeKjUzZm"
      },
      "source": [
        "### Preprocess data"
      ]
    },
    {
      "cell_type": "code",
      "metadata": {
        "colab": {
          "base_uri": "https://localhost:8080/"
        },
        "id": "5UTI_YffI4P2",
        "outputId": "8d64fa34-f6dd-4c94-c6cd-d109ceee1ae8"
      },
      "source": [
        "import tensorflow as tf\n",
        "\n",
        "file_URL = 'https://raw.githubusercontent.com/karpathy/char-rnn/master/data/tinyshakespeare/input.txt'\n",
        "\n",
        "path_to_downloaded_file = tf.keras.utils.get_file('/tmp/shakespeare.txt', file_URL)\n",
        "with open(path_to_downloaded_file) as f:\n",
        "    shakespeare_text = f.read()"
      ],
      "execution_count": null,
      "outputs": [
        {
          "output_type": "stream",
          "text": [
            "Downloading data from https://raw.githubusercontent.com/karpathy/char-rnn/master/data/tinyshakespeare/input.txt\n",
            "1122304/1115394 [==============================] - 0s 0us/step\n"
          ],
          "name": "stdout"
        }
      ]
    },
    {
      "cell_type": "code",
      "metadata": {
        "colab": {
          "base_uri": "https://localhost:8080/"
        },
        "id": "lvUxGWkKLjC8",
        "outputId": "f8f85062-2145-4702-9f82-36b0cdd7f310"
      },
      "source": [
        "print('Number of characters: ', len(shakespeare_text))\n",
        "print()\n",
        "print(shakespeare_text[:100])"
      ],
      "execution_count": null,
      "outputs": [
        {
          "output_type": "stream",
          "text": [
            "Number of characters:  1115394\n",
            "\n",
            "First Citizen:\n",
            "Before we proceed any further, hear me speak.\n",
            "\n",
            "All:\n",
            "Speak, speak.\n",
            "\n",
            "First Citizen:\n",
            "You\n"
          ],
          "name": "stdout"
        }
      ]
    },
    {
      "cell_type": "code",
      "metadata": {
        "id": "ZBL07O6PKUUq"
      },
      "source": [
        "from tensorflow.keras.preprocessing.text import Tokenizer\n",
        "import numpy as np\n",
        "\n",
        "# train a tokenizer\n",
        "tokenizer = Tokenizer(char_level=True)\n",
        "tokenizer.fit_on_texts(shakespeare_text)\n",
        "\n",
        "# encode texts\n",
        "encoded = np.array(tokenizer.texts_to_sequences([shakespeare_text])[0])\n",
        "\n",
        "# train-test split\n",
        "n_chars = tokenizer.document_count\n",
        "train_size = (n_chars * 90 // 100)\n",
        "X_train = encoded[:train_size]"
      ],
      "execution_count": null,
      "outputs": []
    },
    {
      "cell_type": "code",
      "metadata": {
        "id": "tgr0bhHnOHTn"
      },
      "source": [
        "window_size = 100\n",
        "batch_size = 32\n",
        "n_ids = len(tokenizer.word_index)\n",
        "\n",
        "dataset = tf.data.Dataset.from_tensor_slices(X_train)\n",
        "dataset = dataset.window(window_size + 1, shift=1, drop_remainder=True)\n",
        "dataset = dataset.flat_map(lambda window: window.batch(window_size + 1))\n",
        "dataset = dataset.map(lambda window: (window[:-1], window[-1]))\n",
        "dataset = dataset.map(lambda X_batch, y_batch: (X_batch, tf.one_hot(y_batch, depth=n_ids)))\n",
        "dataset = dataset.shuffle(buffer_size=10000)\n",
        "dataset = dataset.repeat().batch(batch_size).prefetch(1)"
      ],
      "execution_count": null,
      "outputs": []
    },
    {
      "cell_type": "code",
      "metadata": {
        "colab": {
          "base_uri": "https://localhost:8080/"
        },
        "id": "0hbELw9-RCzl",
        "outputId": "31773b1c-8c53-472a-d28b-bd5be9710f0e"
      },
      "source": [
        "for X_batch, y_batch in dataset.take(1):\n",
        "    print(X_batch.shape, y_batch.shape)"
      ],
      "execution_count": null,
      "outputs": [
        {
          "output_type": "stream",
          "text": [
            "(32, 100) (32, 39)\n"
          ],
          "name": "stdout"
        }
      ]
    },
    {
      "cell_type": "markdown",
      "metadata": {
        "id": "3TcozsbbU9mP"
      },
      "source": [
        "### Build char-level language model"
      ]
    },
    {
      "cell_type": "code",
      "metadata": {
        "colab": {
          "base_uri": "https://localhost:8080/"
        },
        "id": "15bmq86DUyfA",
        "outputId": "f7003d59-bd65-434c-eac8-042329095edc"
      },
      "source": [
        "model = tf.keras.models.Sequential([\n",
        "    tf.keras.layers.Lambda(lambda x: tf.expand_dims(x, axis=-1), input_shape=[None]),\n",
        "    tf.keras.layers.GRU(128, return_sequences=True),\n",
        "    tf.keras.layers.GRU(128),\n",
        "    tf.keras.layers.Dense(n_ids, activation='softmax')                 \n",
        "])\n",
        "model.summary()"
      ],
      "execution_count": null,
      "outputs": [
        {
          "output_type": "stream",
          "text": [
            "Model: \"sequential\"\n",
            "_________________________________________________________________\n",
            "Layer (type)                 Output Shape              Param #   \n",
            "=================================================================\n",
            "lambda (Lambda)              (None, None, 1)           0         \n",
            "_________________________________________________________________\n",
            "gru (GRU)                    (None, None, 128)         50304     \n",
            "_________________________________________________________________\n",
            "gru_1 (GRU)                  (None, 128)               99072     \n",
            "_________________________________________________________________\n",
            "dense (Dense)                (None, 39)                5031      \n",
            "=================================================================\n",
            "Total params: 154,407\n",
            "Trainable params: 154,407\n",
            "Non-trainable params: 0\n",
            "_________________________________________________________________\n"
          ],
          "name": "stdout"
        }
      ]
    },
    {
      "cell_type": "code",
      "metadata": {
        "colab": {
          "base_uri": "https://localhost:8080/"
        },
        "id": "afAH9NloXw4C",
        "outputId": "6a2056b8-dff2-4826-9020-3f6a7c3e4c87"
      },
      "source": [
        "model.compile(loss=tf.keras.losses.Huber(), optimizer='adam')\n",
        "history = model.fit(dataset, \n",
        "                    epochs=20,\n",
        "                    steps_per_epoch=train_size // batch_size)"
      ],
      "execution_count": null,
      "outputs": [
        {
          "output_type": "stream",
          "text": [
            "Epoch 1/20\n",
            "31370/31370 [==============================] - 388s 12ms/step - loss: 0.0097\n",
            "Epoch 2/20\n",
            "31370/31370 [==============================] - 378s 12ms/step - loss: 0.0087\n",
            "Epoch 3/20\n",
            "31370/31370 [==============================] - 377s 12ms/step - loss: 0.0084\n",
            "Epoch 4/20\n",
            "31370/31370 [==============================] - 373s 12ms/step - loss: 0.0083\n",
            "Epoch 5/20\n",
            "31370/31370 [==============================] - 373s 12ms/step - loss: 0.0082\n",
            "Epoch 6/20\n",
            "31370/31370 [==============================] - 374s 12ms/step - loss: 0.0081\n",
            "Epoch 7/20\n",
            "31370/31370 [==============================] - 381s 12ms/step - loss: 0.0081\n",
            "Epoch 8/20\n",
            "31370/31370 [==============================] - 375s 12ms/step - loss: 0.0080\n",
            "Epoch 9/20\n",
            "31370/31370 [==============================] - 366s 12ms/step - loss: 0.0080\n",
            "Epoch 10/20\n",
            "31370/31370 [==============================] - 364s 12ms/step - loss: 0.0080\n",
            "Epoch 11/20\n",
            "31370/31370 [==============================] - 371s 12ms/step - loss: 0.0080\n",
            "Epoch 12/20\n",
            "31370/31370 [==============================] - 382s 12ms/step - loss: 0.0080\n",
            "Epoch 13/20\n",
            "31370/31370 [==============================] - 380s 12ms/step - loss: 0.0080\n",
            "Epoch 14/20\n",
            "31370/31370 [==============================] - 381s 12ms/step - loss: 0.0080\n",
            "Epoch 15/20\n",
            "31370/31370 [==============================] - 379s 12ms/step - loss: 0.0080\n",
            "Epoch 16/20\n",
            "31370/31370 [==============================] - 379s 12ms/step - loss: 0.0080\n",
            "Epoch 17/20\n",
            "31370/31370 [==============================] - 373s 12ms/step - loss: 0.0080\n",
            "Epoch 18/20\n",
            "31370/31370 [==============================] - 377s 12ms/step - loss: 0.0080\n",
            "Epoch 19/20\n",
            "31370/31370 [==============================] - 383s 12ms/step - loss: 0.0081\n",
            "Epoch 20/20\n",
            "31370/31370 [==============================] - 382s 12ms/step - loss: 0.0081\n"
          ],
          "name": "stdout"
        }
      ]
    },
    {
      "cell_type": "code",
      "metadata": {
        "colab": {
          "base_uri": "https://localhost:8080/",
          "height": 300
        },
        "id": "WXGnbwn5vZzC",
        "outputId": "50898230-e96e-4dfc-f053-8af4d1d5e7c8"
      },
      "source": [
        "import matplotlib.pyplot as plt\n",
        "\n",
        "train_loss = history.history['loss']\n",
        "n_epochs = history.epoch\n",
        "\n",
        "plt.xlabel('epochs')\n",
        "plt.ylabel('train loss')\n",
        "plt.grid(True)\n",
        "plt.plot(n_epochs, train_loss)"
      ],
      "execution_count": null,
      "outputs": [
        {
          "output_type": "execute_result",
          "data": {
            "text/plain": [
              "[<matplotlib.lines.Line2D at 0x7f4e5062e750>]"
            ]
          },
          "metadata": {
            "tags": []
          },
          "execution_count": 11
        },
        {
          "output_type": "display_data",
          "data": {
            "image/png": "[encoded data removed]",
            "text/plain": [
              "<Figure size 432x288 with 1 Axes>"
            ]
          },
          "metadata": {
            "tags": [],
            "needs_background": "light"
          }
        }
      ]
    },
    {
      "cell_type": "markdown",
      "metadata": {
        "id": "dw0OiLKQRsq3"
      },
      "source": [
        "Training loss began to increase from `epoch=10`, hinting that the model is overfitting to the training data. "
      ]
    },
    {
      "cell_type": "markdown",
      "metadata": {
        "id": "SJM4-oH5NAB6"
      },
      "source": [
        "### Generate text"
      ]
    },
    {
      "cell_type": "code",
      "metadata": {
        "colab": {
          "base_uri": "https://localhost:8080/"
        },
        "id": "KFIUUDVqNidQ",
        "outputId": "b741e1b0-b0a5-4a10-adbf-7553624b9f89"
      },
      "source": [
        "text_length = 50\n",
        "text = 'the'\n",
        "\n",
        "for _ in range(text_length):\n",
        "\n",
        "    x = tokenizer.texts_to_sequences([text])[0]\n",
        "    x = tf.expand_dims(x, axis=0)\n",
        "\n",
        "    y_proba = model(x)\n",
        "\n",
        "    idx = tf.argmax(y_proba, axis=1).numpy()\n",
        "    c = tokenizer.sequences_to_texts([idx])\n",
        "    text += c[0]\n",
        "\n",
        "print(text)"
      ],
      "execution_count": null,
      "outputs": [
        {
          "output_type": "stream",
          "text": [
            "the:\n",
            "so will the countent that he is not the countent\n"
          ],
          "name": "stdout"
        }
      ]
    }
  ]
}