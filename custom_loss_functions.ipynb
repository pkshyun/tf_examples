{
  "nbformat": 4,
  "nbformat_minor": 0,
  "metadata": {
    "colab": {
      "name": "weighted_loss_function.ipynb",
      "provenance": [],
      "collapsed_sections": []
    },
    "kernelspec": {
      "name": "python3",
      "display_name": "Python 3"
    },
    "language_info": {
      "name": "python"
    }
  },
  "cells": [
    {
      "cell_type": "markdown",
      "metadata": {
        "id": "YCtUGByVw3k8"
      },
      "source": [
        "## Custom loss functions"
      ]
    },
    {
      "cell_type": "markdown",
      "metadata": {
        "id": "-Xir4zSDR_ru"
      },
      "source": [
        "### 1. Weighted\n",
        "Gives *more* weight to under-represented class and *less* weight to over-represented class.\n",
        "\n",
        "$$loss_{+}^{(i)} = -1 \\times w_{+}^{(i)} \\times y^{(i)} \\times log(\\hat{y}^{(i)})$$\n",
        "$$loss_{-}^{(i)} = -1 \\times w_{-}^{(i)} \\times (1- y^{(i)}) \\times log(1 - \\hat{y}^{(i)})$$\n",
        "\n",
        "$$ loss^{(i)} = loss_{+}^{(i)} + los_{-}^{(i)} $$"
      ]
    },
    {
      "cell_type": "code",
      "metadata": {
        "colab": {
          "base_uri": "https://localhost:8080/"
        },
        "id": "LXi4is9KR4Kx",
        "outputId": "1a7b8a71-4d47-428b-a828-01744f4458e4"
      },
      "source": [
        "import numpy as np\n",
        "\n",
        "y_true = np.array(\n",
        "        [[1,0],\n",
        "         [1,0],\n",
        "         [1,0],\n",
        "         [1,0],\n",
        "         [0,1]\n",
        "        ])\n",
        "\n",
        "y_pred = np.ones(y_true.shape)\n",
        "y_pred[:,0] = 0.3 * y_pred[:,0]\n",
        "y_pred[:,1] = 0.7 * y_pred[:,1]\n",
        "y_pred"
      ],
      "execution_count": null,
      "outputs": [
        {
          "output_type": "execute_result",
          "data": {
            "text/plain": [
              "array([[0.3, 0.7],\n",
              "       [0.3, 0.7],\n",
              "       [0.3, 0.7],\n",
              "       [0.3, 0.7],\n",
              "       [0.3, 0.7]])"
            ]
          },
          "metadata": {
            "tags": []
          },
          "execution_count": 2
        }
      ]
    },
    {
      "cell_type": "code",
      "metadata": {
        "colab": {
          "base_uri": "https://localhost:8080/"
        },
        "id": "rTEb1wOMTOfo",
        "outputId": "1478ce94-d529-490c-96e1-c9d75688e3a0"
      },
      "source": [
        "w_p = np.sum(y_true == 0,axis=0) / y_true.shape[0]\n",
        "w_n = np.sum(y_true == 1, axis=0) / y_true.shape[0]\n",
        "\n",
        "w_p, w_n"
      ],
      "execution_count": null,
      "outputs": [
        {
          "output_type": "execute_result",
          "data": {
            "text/plain": [
              "(array([0.2, 0.8]), array([0.8, 0.2]))"
            ]
          },
          "metadata": {
            "tags": []
          },
          "execution_count": 4
        }
      ]
    },
    {
      "cell_type": "code",
      "metadata": {
        "colab": {
          "base_uri": "https://localhost:8080/"
        },
        "id": "W-pNRqcWS_No",
        "outputId": "ec6346d1-dffc-4343-9294-7e9ba0433d6d"
      },
      "source": [
        "loss_0_pos = -1 * np.sum(w_p[0] * \n",
        "                y_true[:, 0] * \n",
        "                np.log(y_pred[:, 0])\n",
        "              )\n",
        "\n",
        "loss_0_neg = -1 * np.sum( \n",
        "                w_n[0] * \n",
        "                (1 - y_true[:, 0]) * \n",
        "                np.log(1 - y_pred[:, 0])\n",
        "              )\n",
        "\n",
        "loss_0 = loss_0_neg + loss_0_pos\n",
        "loss_0"
      ],
      "execution_count": null,
      "outputs": [
        {
          "output_type": "execute_result",
          "data": {
            "text/plain": [
              "1.2485181986117349"
            ]
          },
          "metadata": {
            "tags": []
          },
          "execution_count": 6
        }
      ]
    },
    {
      "cell_type": "code",
      "metadata": {
        "colab": {
          "base_uri": "https://localhost:8080/"
        },
        "id": "cmbMWjixTX5i",
        "outputId": "7b9d037c-4b71-408e-f524-768963beade1"
      },
      "source": [
        "loss_1_pos = -1 * np.sum(w_p[1] * \n",
        "                         y_true[:, 1] * \n",
        "                         np.log(y_pred[:, 1])\n",
        "                        )\n",
        "\n",
        "loss_1_neg = -1 * np.sum(w_n[1] * \n",
        "                         (1 - y_true[:, 1]) * \n",
        "                         (np.log(1 - y_pred[:, 1])) \n",
        "                        )\n",
        "\n",
        "loss_1 = loss_1_pos + loss_1_neg\n",
        "loss_1"
      ],
      "execution_count": null,
      "outputs": [
        {
          "output_type": "execute_result",
          "data": {
            "text/plain": [
              "1.2485181986117349"
            ]
          },
          "metadata": {
            "tags": []
          },
          "execution_count": 7
        }
      ]
    },
    {
      "cell_type": "markdown",
      "metadata": {
        "id": "uc-ZWkt1wtn0"
      },
      "source": [
        "### 2. Soft Dice coefficient\n",
        "\n",
        "The soft dice coefficient loss function takes real input, instead of discrete numbers, which measures how well two images (here, the model's prediction and ground truth) overlap.\n",
        "\n",
        "$$\\mathcal{L}_{Dice}(p, q) = 1 - \\frac{1}{N} \\sum_{c=1}^{C} \\frac{2\\times\\sum_{i, j} p_{cij}q_{cij} + \\epsilon}{\\left(\\sum_{i, j} p_{cij}^2 \\right) + \\left(\\sum_{i, j} q_{cij}^2 \\right) + \\epsilon}$$"
      ]
    },
    {
      "cell_type": "code",
      "metadata": {
        "id": "w74kLkR8wtED"
      },
      "source": [
        "from keras.backend import sum, mean\n",
        "\n",
        "def soft_dice_loss(y_pred, y_true, axis=(1, 2, 3), eps=0.00001):\n",
        "    num = sum(y_pred * y_true, axis)\n",
        "    den = sum(y_pred**2, axis) + sum(y_true**2, axis)\n",
        "    coeff = 1 - mean((2 * num + eps) / (den + eps))\n",
        "\n",
        "    return coeff"
      ],
      "execution_count": null,
      "outputs": []
    }
  ]
}