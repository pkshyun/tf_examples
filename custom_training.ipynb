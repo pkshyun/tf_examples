{
  "nbformat": 4,
  "nbformat_minor": 0,
  "metadata": {
    "colab": {
      "name": "custom_training.ipynb",
      "provenance": [],
      "collapsed_sections": [],
      "authorship_tag": "ABX9TyNvQiDDuWLr1dX3MhXDartc",
      "include_colab_link": true
    },
    "kernelspec": {
      "name": "python3",
      "display_name": "Python 3"
    },
    "language_info": {
      "name": "python"
    }
  },
  "cells": [
    {
      "cell_type": "markdown",
      "metadata": {
        "id": "view-in-github",
        "colab_type": "text"
      },
      "source": [
        "<a href=\"https://colab.research.google.com/github/shine-93/tf_examples/blob/main/custom_training.ipynb\" target=\"_parent\"><img src=\"https://colab.research.google.com/assets/colab-badge.svg\" alt=\"Open In Colab\"/></a>"
      ]
    },
    {
      "cell_type": "markdown",
      "metadata": {
        "id": "_qYwNHfTU3ZY"
      },
      "source": [
        "Generate a synthetic training dataset.\n",
        "\n",
        "$$y = w_{true} \\times x + b_{true} $$"
      ]
    },
    {
      "cell_type": "code",
      "metadata": {
        "id": "bkQWLa-3UBD6"
      },
      "source": [
        "import tensorflow as tf\n",
        "\n",
        "TRUE_w = 3.\n",
        "TRUE_b = 2.\n",
        "N = 1000\n",
        "\n",
        "X = tf.random.normal(shape=[N])\n",
        "y = (TRUE_w * X) + (TRUE_b)"
      ],
      "execution_count": null,
      "outputs": []
    },
    {
      "cell_type": "code",
      "metadata": {
        "colab": {
          "base_uri": "https://localhost:8080/",
          "height": 296
        },
        "id": "ujozIIqXYSbb",
        "outputId": "71ca1fde-dd0c-4252-844b-4fd6a4396f6f"
      },
      "source": [
        "import matplotlib.pyplot as plt\n",
        "\n",
        "plt.grid(True)\n",
        "plt.xlabel('X')\n",
        "plt.ylabel('y')\n",
        "\n",
        "plt.scatter(X,y)"
      ],
      "execution_count": null,
      "outputs": [
        {
          "output_type": "execute_result",
          "data": {
            "text/plain": [
              "<matplotlib.collections.PathCollection at 0x7f2c83ae7050>"
            ]
          },
          "metadata": {
            "tags": []
          },
          "execution_count": 7
        },
        {
          "output_type": "display_data",
          "data": {
            "image/png": "[encoded data removed]",
            "text/plain": [
              "<Figure size 432x288 with 1 Axes>"
            ]
          },
          "metadata": {
            "tags": [],
            "needs_background": "light"
          }
        }
      ]
    },
    {
      "cell_type": "code",
      "metadata": {
        "id": "StrtFuezVFRM"
      },
      "source": [
        "from tensorflow.keras.models import Model\n",
        "\n",
        "class SmallModel(Model):\n",
        "\n",
        "    def __init__(self):\n",
        "        super(SmallModel, self).__init__()\n",
        "        self.w = tf.Variable(initial_value=2.,\n",
        "                             trainable=True,\n",
        "                             dtype=tf.float32,\n",
        "                             name='weight')\n",
        "        \n",
        "        self.b = tf.Variable(initial_value=1.,\n",
        "                             trainable=True,\n",
        "                             dtype=tf.float32,\n",
        "                             name='bias')\n",
        "\n",
        "    def __call__(self, inputs):\n",
        "        y = (self.w * inputs) + self.b\n",
        "        return y"
      ],
      "execution_count": null,
      "outputs": []
    },
    {
      "cell_type": "markdown",
      "metadata": {
        "id": "tg5MRBtIZOlG"
      },
      "source": [
        "Prediction with initial values of paramters."
      ]
    },
    {
      "cell_type": "code",
      "metadata": {
        "id": "49bw45_nYOiO"
      },
      "source": [
        "model = SmallModel()\n",
        "\n",
        "y_pred = model(X)"
      ],
      "execution_count": null,
      "outputs": []
    },
    {
      "cell_type": "code",
      "metadata": {
        "colab": {
          "base_uri": "https://localhost:8080/",
          "height": 296
        },
        "id": "kv4MlpQnYQdk",
        "outputId": "e2377e9c-d82d-4818-a5c7-53ed3fbda421"
      },
      "source": [
        "plt.grid(True)\n",
        "plt.xlabel('X')\n",
        "plt.ylabel('y')\n",
        "\n",
        "plot_true = plt.scatter(X, y)\n",
        "plot_pred = plt.scatter(X, y_pred)\n",
        "\n",
        "plt.legend((plot_true, plot_pred), ('y_true', 'y_pred'))"
      ],
      "execution_count": null,
      "outputs": [
        {
          "output_type": "execute_result",
          "data": {
            "text/plain": [
              "<matplotlib.legend.Legend at 0x7f2c8432b610>"
            ]
          },
          "metadata": {
            "tags": []
          },
          "execution_count": 11
        },
        {
          "output_type": "display_data",
          "data": {
            "image/png": "[encoded data removed]",
            "text/plain": [
              "<Figure size 432x288 with 1 Axes>"
            ]
          },
          "metadata": {
            "tags": [],
            "needs_background": "light"
          }
        }
      ]
    },
    {
      "cell_type": "markdown",
      "metadata": {
        "id": "qsiCln6EfXgt"
      },
      "source": [
        "From here, custom `fit()` and `compile()` methods are implemented."
      ]
    },
    {
      "cell_type": "code",
      "metadata": {
        "id": "FvDMI-7kZEeZ"
      },
      "source": [
        "def MSE_loss(y_true, y_pred):\n",
        "    loss = tf.reduce_mean(tf.square(y_true - y_pred))\n",
        "    return loss\n",
        "\n",
        "def train(model, X, y_true, lr):\n",
        "\n",
        "    # forward pass\n",
        "    with tf.GradientTape(persistent=True) as tape:\n",
        "        y_pred = model(X)\n",
        "        loss = MSE_loss(y_true, y_pred)\n",
        "    \n",
        "    # backprop\n",
        "    gw = tape.gradient(loss, model.w)\n",
        "    gb = tape.gradient(loss, model.b)\n",
        "\n",
        "    # update parameters\n",
        "    model.w.assign_sub(lr * gw)\n",
        "    model.b.assign_sub(lr * gb)\n",
        "\n",
        "    del tape # a manual garbage collection\n",
        "\n",
        "    return loss"
      ],
      "execution_count": null,
      "outputs": []
    },
    {
      "cell_type": "code",
      "metadata": {
        "colab": {
          "base_uri": "https://localhost:8080/"
        },
        "id": "JvD71JkKdOpu",
        "outputId": "2cd554b0-7a47-487a-b339-c2a931d2e417"
      },
      "source": [
        "w_history = []\n",
        "b_history = []\n",
        "loss_vals = []\n",
        "\n",
        "epochs = 15\n",
        "lr = 0.1\n",
        "\n",
        "for i in range(epochs):\n",
        "    # store parameter values before update\n",
        "    w_history.append(model.w.numpy())\n",
        "    b_history.append(model.b.numpy())\n",
        "\n",
        "    loss = train(model, X, y, lr) # no batch\n",
        "    loss_vals.append(loss)\n",
        "\n",
        "    print('Epoch %2d: w=%1.2f b=%1.2f, loss=%2.5f' % (i, w_history[-1], b_history[-1], loss))"
      ],
      "execution_count": null,
      "outputs": [
        {
          "output_type": "stream",
          "text": [
            "Epoch  0: w=2.49 b=1.49, loss=0.51979\n",
            "Epoch  1: w=2.60 b=1.60, loss=0.32987\n",
            "Epoch  2: w=2.68 b=1.68, loss=0.20935\n",
            "Epoch  3: w=2.74 b=1.74, loss=0.13286\n",
            "Epoch  4: w=2.80 b=1.80, loss=0.08431\n",
            "Epoch  5: w=2.84 b=1.84, loss=0.05351\n",
            "Epoch  6: w=2.87 b=1.87, loss=0.03396\n",
            "Epoch  7: w=2.90 b=1.90, loss=0.02155\n",
            "Epoch  8: w=2.92 b=1.92, loss=0.01368\n",
            "Epoch  9: w=2.93 b=1.93, loss=0.00868\n",
            "Epoch 10: w=2.95 b=1.95, loss=0.00551\n",
            "Epoch 11: w=2.96 b=1.96, loss=0.00350\n",
            "Epoch 12: w=2.97 b=1.97, loss=0.00222\n",
            "Epoch 13: w=2.97 b=1.97, loss=0.00141\n",
            "Epoch 14: w=2.98 b=1.98, loss=0.00089\n"
          ],
          "name": "stdout"
        }
      ]
    },
    {
      "cell_type": "code",
      "metadata": {
        "colab": {
          "base_uri": "https://localhost:8080/",
          "height": 296
        },
        "id": "jYRCQs0beovj",
        "outputId": "06ceb6d4-89c9-4e0b-ed2d-d2f196bea7e5"
      },
      "source": [
        "y_pred = model(X) # prediction with the latest updated paramters\n",
        "\n",
        "plt.grid(True)\n",
        "plt.xlabel('X')\n",
        "plt.ylabel('y')\n",
        "\n",
        "plot_true = plt.scatter(X, y)\n",
        "plot_pred = plt.scatter(X, y_pred)\n",
        "\n",
        "plt.legend((plot_true, plot_pred), ('y_true', 'y_pred'))"
      ],
      "execution_count": null,
      "outputs": [
        {
          "output_type": "execute_result",
          "data": {
            "text/plain": [
              "<matplotlib.legend.Legend at 0x7f2c8381ba90>"
            ]
          },
          "metadata": {
            "tags": []
          },
          "execution_count": 18
        },
        {
          "output_type": "display_data",
          "data": {
            "image/png": "[encoded data removed]",
            "text/plain": [
              "<Figure size 432x288 with 1 Axes>"
            ]
          },
          "metadata": {
            "tags": [],
            "needs_background": "light"
          }
        }
      ]
    }
  ]
}